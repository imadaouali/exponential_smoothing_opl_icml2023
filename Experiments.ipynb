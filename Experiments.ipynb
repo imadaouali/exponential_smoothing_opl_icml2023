{
 "cells": [
  {
   "cell_type": "code",
   "execution_count": 1,
   "id": "75858edf-817e-45d3-b9af-51123484dbd2",
   "metadata": {
    "tags": []
   },
   "outputs": [],
   "source": [
    "#!pip install torch torchvision torchaudio\n",
    "#!pip install pytorch-lightning\n",
    "#!pip install scikit-learn"
   ]
  },
  {
   "cell_type": "code",
   "execution_count": 2,
   "id": "2b32bfa2-58bd-4e4a-ae99-8d428bf92674",
   "metadata": {
    "tags": []
   },
   "outputs": [
    {
     "name": "stderr",
     "output_type": "stream",
     "text": [
      "/usr/lib64/python3.6/importlib/__init__.py:126: FutureWarning: MLflow support for Python 3.6 is deprecated and will be dropped in an upcoming release. At that point, existing Python 3.6 workflows that use MLflow will continue to work without modification, but Python 3.6 users will no longer get access to the latest MLflow features and bugfixes. We recommend that you upgrade to Python 3.7 or newer.\n",
      "  return _bootstrap._gcd_import(name[level:], package, level)\n"
     ]
    },
    {
     "name": "stdout",
     "output_type": "stream",
     "text": [
      "The available device is : cuda:0\n"
     ]
    }
   ],
   "source": [
    "import numpy as np\n",
    "import torch\n",
    "from torch import nn \n",
    "from torchvision.datasets import FashionMNIST, MNIST, EMNIST, CIFAR100\n",
    "from torchvision import transforms\n",
    "from pytorch_lightning import Trainer\n",
    "from torch.utils.data import TensorDataset, DataLoader\n",
    "from sklearn.model_selection import train_test_split\n",
    "import matplotlib.pyplot as plt\n",
    "import pytorch_lightning as pl\n",
    "from models import *\n",
    "import pandas as pd\n",
    "from sklearn.model_selection import train_test_split\n",
    "from scipy.optimize import minimize\n",
    "from joblib import Parallel, delayed\n",
    "from tqdm import tqdm\n",
    "from collections import defaultdict\n",
    "from tensorflow.keras.applications.resnet50 import ResNet50\n",
    "from tensorflow.keras.applications.resnet50 import preprocess_input\n",
    "import tensorflow.keras as K\n",
    "\n",
    "\n",
    "import matplotlib as mpl\n",
    "mpl.style.use(\"classic\")\n",
    "mpl.rcParams[\"figure.figsize\"] = [5, 3]\n",
    "\n",
    "mpl.rcParams[\"axes.linewidth\"] = 0.75\n",
    "mpl.rcParams[\"figure.facecolor\"] = \"w\"\n",
    "mpl.rcParams[\"grid.linewidth\"] = 0.75\n",
    "mpl.rcParams[\"lines.linewidth\"] = 0.75\n",
    "mpl.rcParams[\"patch.linewidth\"] = 0.75\n",
    "mpl.rcParams[\"xtick.major.size\"] = 3\n",
    "mpl.rcParams[\"ytick.major.size\"] = 3\n",
    "\n",
    "mpl.rcParams[\"pdf.fonttype\"] = 42\n",
    "mpl.rcParams[\"ps.fonttype\"] = 42\n",
    "mpl.rcParams[\"font.size\"] = 9\n",
    "mpl.rcParams[\"axes.titlesize\"] = \"medium\"\n",
    "mpl.rcParams[\"legend.fontsize\"] = \"medium\"\n",
    "\n",
    "\n",
    "import os\n",
    "import warnings\n",
    "warnings.filterwarnings(\"ignore\")\n",
    "\n",
    "\n",
    "# Reproducibility\n",
    "seed = 0\n",
    "np.random.seed(seed)\n",
    "torch.manual_seed(seed)\n",
    "\n",
    "device = torch.device(\"cuda:0\" if torch.cuda.is_available() else \"cpu\")\n",
    "print('The available device is :', device)"
   ]
  },
  {
   "cell_type": "code",
   "execution_count": 3,
   "id": "d1942cb8-c098-4c10-bf9d-d4aa438b3a16",
   "metadata": {
    "tags": []
   },
   "outputs": [],
   "source": [
    "dict_datasets = {'MNIST' : MNIST,\n",
    "                 'FashionMNIST': FashionMNIST,\n",
    "                 'EMNIST': EMNIST,\n",
    "                'CIFAR': CIFAR100}"
   ]
  },
  {
   "cell_type": "code",
   "execution_count": 4,
   "id": "be30e9be-b9f2-4d91-8d45-3540d8630c4d",
   "metadata": {
    "tags": []
   },
   "outputs": [
    {
     "name": "stdout",
     "output_type": "stream",
     "text": [
      "dataset used is : MNIST\n"
     ]
    }
   ],
   "source": [
    "name = 'MNIST'\n",
    "print('dataset used is :', name)\n",
    "dataset = dict_datasets[name]"
   ]
  },
  {
   "cell_type": "code",
   "execution_count": 5,
   "id": "833519a4-b3b8-484a-ae6f-7eb3a612838f",
   "metadata": {
    "tags": []
   },
   "outputs": [
    {
     "name": "stdout",
     "output_type": "stream",
     "text": [
      "Downloading http://yann.lecun.com/exdb/mnist/train-images-idx3-ubyte.gz\n",
      "Downloading http://yann.lecun.com/exdb/mnist/train-images-idx3-ubyte.gz to /mnt/nfs/home/i.aouali/aistats_2024/MNIST/raw/train-images-idx3-ubyte.gz\n"
     ]
    },
    {
     "data": {
      "application/vnd.jupyter.widget-view+json": {
       "model_id": "d43aa1f9f05941fdaa938a424c7b3d5f",
       "version_major": 2,
       "version_minor": 0
      },
      "text/plain": [
       "  0%|          | 0/9912422 [00:00<?, ?it/s]"
      ]
     },
     "metadata": {},
     "output_type": "display_data"
    },
    {
     "name": "stdout",
     "output_type": "stream",
     "text": [
      "Extracting /mnt/nfs/home/i.aouali/aistats_2024/MNIST/raw/train-images-idx3-ubyte.gz to /mnt/nfs/home/i.aouali/aistats_2024/MNIST/raw\n",
      "\n",
      "Downloading http://yann.lecun.com/exdb/mnist/train-labels-idx1-ubyte.gz\n",
      "Downloading http://yann.lecun.com/exdb/mnist/train-labels-idx1-ubyte.gz to /mnt/nfs/home/i.aouali/aistats_2024/MNIST/raw/train-labels-idx1-ubyte.gz\n"
     ]
    },
    {
     "data": {
      "application/vnd.jupyter.widget-view+json": {
       "model_id": "80edd187a38d421bb4f22669202ca785",
       "version_major": 2,
       "version_minor": 0
      },
      "text/plain": [
       "  0%|          | 0/28881 [00:00<?, ?it/s]"
      ]
     },
     "metadata": {},
     "output_type": "display_data"
    },
    {
     "name": "stdout",
     "output_type": "stream",
     "text": [
      "Extracting /mnt/nfs/home/i.aouali/aistats_2024/MNIST/raw/train-labels-idx1-ubyte.gz to /mnt/nfs/home/i.aouali/aistats_2024/MNIST/raw\n",
      "\n",
      "Downloading http://yann.lecun.com/exdb/mnist/t10k-images-idx3-ubyte.gz\n",
      "Downloading http://yann.lecun.com/exdb/mnist/t10k-images-idx3-ubyte.gz to /mnt/nfs/home/i.aouali/aistats_2024/MNIST/raw/t10k-images-idx3-ubyte.gz\n"
     ]
    },
    {
     "data": {
      "application/vnd.jupyter.widget-view+json": {
       "model_id": "dd041b76c07549e5bdf80075b2d00d94",
       "version_major": 2,
       "version_minor": 0
      },
      "text/plain": [
       "  0%|          | 0/1648877 [00:00<?, ?it/s]"
      ]
     },
     "metadata": {},
     "output_type": "display_data"
    },
    {
     "name": "stdout",
     "output_type": "stream",
     "text": [
      "Extracting /mnt/nfs/home/i.aouali/aistats_2024/MNIST/raw/t10k-images-idx3-ubyte.gz to /mnt/nfs/home/i.aouali/aistats_2024/MNIST/raw\n",
      "\n",
      "Downloading http://yann.lecun.com/exdb/mnist/t10k-labels-idx1-ubyte.gz\n",
      "Downloading http://yann.lecun.com/exdb/mnist/t10k-labels-idx1-ubyte.gz to /mnt/nfs/home/i.aouali/aistats_2024/MNIST/raw/t10k-labels-idx1-ubyte.gz\n"
     ]
    },
    {
     "data": {
      "application/vnd.jupyter.widget-view+json": {
       "model_id": "bb23e3b6f6334555882407ffff5d3c36",
       "version_major": 2,
       "version_minor": 0
      },
      "text/plain": [
       "  0%|          | 0/4542 [00:00<?, ?it/s]"
      ]
     },
     "metadata": {},
     "output_type": "display_data"
    },
    {
     "name": "stdout",
     "output_type": "stream",
     "text": [
      "Extracting /mnt/nfs/home/i.aouali/aistats_2024/MNIST/raw/t10k-labels-idx1-ubyte.gz to /mnt/nfs/home/i.aouali/aistats_2024/MNIST/raw\n",
      "\n"
     ]
    }
   ],
   "source": [
    "if name != 'CIFAR': #For all datasets, except CIFAR, we do not use any pre-trained model to get features\n",
    "    if name == 'EMNIST':\n",
    "        mnist_train = dataset(os.getcwd(), train=True, split = 'balanced', download=True, transform=transforms.ToTensor())\n",
    "        mnist_test = dataset(os.getcwd(), train=False, split = 'balanced', download=True, transform=transforms.ToTensor())\n",
    "\n",
    "    else:\n",
    "        mnist_train = dataset(os.getcwd(), train=True, download=True, transform=transforms.ToTensor())\n",
    "        mnist_test = dataset(os.getcwd(), train=False, download=True, transform=transforms.ToTensor())\n",
    "        \n",
    "    X_train, Y_train = torch.tensor(mnist_train.data).float().reshape(len(mnist_train.data), -1), torch.tensor(mnist_train.targets)\n",
    "    X_test, Y_test = torch.tensor(mnist_test.data).float().reshape(len(mnist_test.data), -1), torch.tensor(mnist_test.targets)\n",
    "\n",
    "else: #For CIFAR, we use a pre-trained ResNet50 to get features\n",
    "    cifar_train = dataset(os.getcwd(), train=True, download=True, transform=transforms.ToTensor())\n",
    "    cifar_test = dataset(os.getcwd(), train=False, download=True, transform=transforms.ToTensor())\n",
    "    \n",
    "    resnet_model = ResNet50(weights='imagenet', input_tensor=K.Input(shape=(32, 32, 3)))\n",
    "    ablation_model = K.Model(inputs=resnet_model.inputs, outputs=resnet_model.layers[-2].output)\n",
    "    \n",
    "    X_train = ablation_model.predict(preprocess_input(cifar_train.data, data_format=None))\n",
    "    X_test = ablation_model.predict(preprocess_input(cifar_test.data, data_format=None))\n",
    "    \n",
    "    X_train, Y_train = torch.tensor(X_train), torch.tensor(cifar_train.targets)\n",
    "    X_test, Y_test = torch.tensor(X_test), torch.tensor(cifar_test.targets)\n",
    "    \n",
    "# rescaling the contexts\n",
    "X_train /= torch.norm(X_train, p = 2, dim = -1, keepdim=True)\n",
    "X_test /= torch.norm(X_test, p = 2, dim = -1, keepdim=True)"
   ]
  },
  {
   "cell_type": "code",
   "execution_count": 6,
   "id": "8a7168fd-dcc4-4372-95f8-5cf3fbc3cd88",
   "metadata": {
    "tags": []
   },
   "outputs": [
    {
     "name": "stdout",
     "output_type": "stream",
     "text": [
      "Train : dimension of X is : torch.Size([60000, 784]) dimension of Y is : 60000\n",
      "Test : dimension of X_test is : torch.Size([10000, 784]) dimension of Y is : 10000\n",
      "num_actions:  10\n"
     ]
    }
   ],
   "source": [
    "# data subsampling to learn a logging Policy\n",
    "\n",
    "x0, X_log, y0, Y_log = train_test_split(X_train, Y_train, train_size = 0.05)\n",
    "\n",
    "N = len(X_log)\n",
    "N_test = len(X_test)\n",
    "\n",
    "print('Train : dimension of X is :', X_train.shape, 'dimension of Y is :', len(X_train))\n",
    "print('Test : dimension of X_test is :', X_test.shape, 'dimension of Y is :', N_test)\n",
    "context_dim = X_log.shape[1]\n",
    "num_actions = len(np.unique(Y_log))\n",
    "print('num_actions: ', num_actions)\n",
    "\n",
    "subsample_pt = TensorDataset(x0, y0)\n",
    "subsample_dataloader = DataLoader(subsample_pt, batch_size=128, shuffle=True)\n",
    "\n",
    "# create the logging split\n",
    "logging_split = TensorDataset(X_log, Y_log)\n",
    "logging_split_dataloader = DataLoader(logging_split, batch_size=128, shuffle=True)"
   ]
  },
  {
   "cell_type": "code",
   "execution_count": 7,
   "id": "5c26c6d8-c41e-4afb-a795-921b02621567",
   "metadata": {
    "tags": []
   },
   "outputs": [
    {
     "name": "stderr",
     "output_type": "stream",
     "text": [
      "GPU available: True, used: True\n",
      "TPU available: False, using: 0 TPU cores\n",
      "IPU available: False, using: 0 IPUs\n",
      "LOCAL_RANK: 0 - CUDA_VISIBLE_DEVICES: [0]\n"
     ]
    },
    {
     "data": {
      "application/vnd.jupyter.widget-view+json": {
       "model_id": "14ae2b221bb64ddd948f7b414831b623",
       "version_major": 2,
       "version_minor": 0
      },
      "text/plain": [
       "Training: 0it [00:00, ?it/s]"
      ]
     },
     "metadata": {},
     "output_type": "display_data"
    }
   ],
   "source": [
    "# Training a logging policy\n",
    "etas = np.round(np.linspace(0, 1, 10), 2) # Inverse temperature parameter (the higher eta the better the performance of the logging policy)\n",
    "\n",
    "dict_results = defaultdict(list)\n",
    "epochs_logging = 10 # logging policy is trained using 10 epochs\n",
    "epochs = 20 # learning policies are trained using 20 epochs\n",
    "\n",
    "logging_policy = SupervisedPolicy(n_actions=num_actions, context_dim=context_dim, softmax = True, reg=1e-6, device = device)\n",
    "trainer = Trainer(max_epochs=epochs_logging, gpus=1, checkpoint_callback=False, weights_summary=None, logger=None)\n",
    "trainer.fit(logging_policy, subsample_dataloader)"
   ]
  },
  {
   "cell_type": "code",
   "execution_count": null,
   "id": "3d69660f-8266-4496-82d2-f60b3a62dea2",
   "metadata": {
    "tags": []
   },
   "outputs": [
    {
     "name": "stdout",
     "output_type": "stream",
     "text": [
      "eta parameter :  0.0\n"
     ]
    },
    {
     "name": "stderr",
     "output_type": "stream",
     "text": [
      "79it [00:00, 682.16it/s]\n"
     ]
    },
    {
     "name": "stdout",
     "output_type": "stream",
     "text": [
      "The reward of the logging policy:  0.10000000149011612\n"
     ]
    },
    {
     "name": "stderr",
     "output_type": "stream",
     "text": [
      "100%|██████████| 446/446 [00:00<00:00, 590.49it/s]\n",
      "GPU available: True, used: True\n",
      "TPU available: False, using: 0 TPU cores\n",
      "IPU available: False, using: 0 IPUs\n",
      "LOCAL_RANK: 0 - CUDA_VISIBLE_DEVICES: [0]\n"
     ]
    },
    {
     "name": "stdout",
     "output_type": "stream",
     "text": [
      "max 0.10000000894069672\n",
      "min 0.10000000894069672\n"
     ]
    },
    {
     "data": {
      "application/vnd.jupyter.widget-view+json": {
       "model_id": "7cf31f35399e466dab64d8889d64e7af",
       "version_major": 2,
       "version_minor": 0
      },
      "text/plain": [
       "Training: 0it [00:00, ?it/s]"
      ]
     },
     "metadata": {},
     "output_type": "display_data"
    },
    {
     "name": "stderr",
     "output_type": "stream",
     "text": [
      "79it [00:01, 41.54it/s]\n",
      "GPU available: True, used: True\n",
      "TPU available: False, using: 0 TPU cores\n",
      "IPU available: False, using: 0 IPUs\n",
      "LOCAL_RANK: 0 - CUDA_VISIBLE_DEVICES: [0]\n"
     ]
    },
    {
     "name": "stdout",
     "output_type": "stream",
     "text": [
      "Reward of Ours with Gaussian policies after training  : 0.40582422676086427\n",
      "################################################################################\n"
     ]
    },
    {
     "data": {
      "application/vnd.jupyter.widget-view+json": {
       "model_id": "c7136738c45147bdb33c5ae0a57d7f53",
       "version_major": 2,
       "version_minor": 0
      },
      "text/plain": [
       "Training: 0it [00:00, ?it/s]"
      ]
     },
     "metadata": {},
     "output_type": "display_data"
    },
    {
     "name": "stderr",
     "output_type": "stream",
     "text": [
      "79it [00:01, 41.73it/s]\n",
      "GPU available: True, used: True\n",
      "TPU available: False, using: 0 TPU cores\n",
      "IPU available: False, using: 0 IPUs\n",
      "LOCAL_RANK: 0 - CUDA_VISIBLE_DEVICES: [0]\n"
     ]
    },
    {
     "name": "stdout",
     "output_type": "stream",
     "text": [
      "Reward of Ours with MixedLogit policies after training  : 0.3040118197441101\n",
      "################################################################################\n"
     ]
    },
    {
     "data": {
      "application/vnd.jupyter.widget-view+json": {
       "model_id": "a0ec23777eac45708aee7752e2479dd0",
       "version_major": 2,
       "version_minor": 0
      },
      "text/plain": [
       "Training: 0it [00:00, ?it/s]"
      ]
     },
     "metadata": {},
     "output_type": "display_data"
    },
    {
     "name": "stderr",
     "output_type": "stream",
     "text": [
      "79it [00:01, 42.89it/s]\n",
      "GPU available: True, used: True\n",
      "TPU available: False, using: 0 TPU cores\n",
      "IPU available: False, using: 0 IPUs\n",
      "LOCAL_RANK: 0 - CUDA_VISIBLE_DEVICES: [0]\n"
     ]
    },
    {
     "name": "stdout",
     "output_type": "stream",
     "text": [
      "Reward of London with Gaussian policies after training  : 0.14937721660137177\n",
      "################################################################################\n"
     ]
    },
    {
     "data": {
      "application/vnd.jupyter.widget-view+json": {
       "model_id": "196c3b283e9a45d7bc7e5b069c822ae8",
       "version_major": 2,
       "version_minor": 0
      },
      "text/plain": [
       "Training: 0it [00:00, ?it/s]"
      ]
     },
     "metadata": {},
     "output_type": "display_data"
    },
    {
     "name": "stderr",
     "output_type": "stream",
     "text": [
      "79it [00:01, 43.53it/s]\n",
      "GPU available: True, used: True\n",
      "TPU available: False, using: 0 TPU cores\n",
      "IPU available: False, using: 0 IPUs\n",
      "LOCAL_RANK: 0 - CUDA_VISIBLE_DEVICES: [0]\n"
     ]
    },
    {
     "name": "stdout",
     "output_type": "stream",
     "text": [
      "Reward of London with MixedLogit policies after training  : 0.10942757939100266\n",
      "################################################################################\n"
     ]
    },
    {
     "data": {
      "application/vnd.jupyter.widget-view+json": {
       "model_id": "a1af4af3d48646278280d4cb7b510625",
       "version_major": 2,
       "version_minor": 0
      },
      "text/plain": [
       "Training: 0it [00:00, ?it/s]"
      ]
     },
     "metadata": {},
     "output_type": "display_data"
    },
    {
     "name": "stderr",
     "output_type": "stream",
     "text": [
      "79it [00:01, 43.33it/s]\n",
      "GPU available: True, used: True\n",
      "TPU available: False, using: 0 TPU cores\n",
      "IPU available: False, using: 0 IPUs\n",
      "LOCAL_RANK: 0 - CUDA_VISIBLE_DEVICES: [0]\n"
     ]
    },
    {
     "name": "stdout",
     "output_type": "stream",
     "text": [
      "Reward of Sakhi et al. 1 with Gaussian policies after training  : 0.6834229459762573\n",
      "################################################################################\n"
     ]
    },
    {
     "data": {
      "application/vnd.jupyter.widget-view+json": {
       "model_id": "0ce7f00069024d348b2e00aea0c0c20c",
       "version_major": 2,
       "version_minor": 0
      },
      "text/plain": [
       "Training: 0it [00:00, ?it/s]"
      ]
     },
     "metadata": {},
     "output_type": "display_data"
    },
    {
     "name": "stderr",
     "output_type": "stream",
     "text": [
      "79it [00:01, 42.14it/s]\n",
      "GPU available: True, used: True\n",
      "TPU available: False, using: 0 TPU cores\n",
      "IPU available: False, using: 0 IPUs\n",
      "LOCAL_RANK: 0 - CUDA_VISIBLE_DEVICES: [0]\n"
     ]
    },
    {
     "name": "stdout",
     "output_type": "stream",
     "text": [
      "Reward of Sakhi et al. 1 with MixedLogit policies after training  : 0.5687774660110474\n",
      "################################################################################\n",
      "S_lmbd is defined by these two bounds 0.0011664327636970212 0.12943784736956893\n"
     ]
    },
    {
     "data": {
      "application/vnd.jupyter.widget-view+json": {
       "model_id": "830805f1401d49c8a6f0a7b273510f5f",
       "version_major": 2,
       "version_minor": 0
      },
      "text/plain": [
       "Training: 0it [00:00, ?it/s]"
      ]
     },
     "metadata": {},
     "output_type": "display_data"
    },
    {
     "name": "stderr",
     "output_type": "stream",
     "text": [
      "79it [00:01, 42.81it/s]\n",
      "GPU available: True, used: True\n",
      "TPU available: False, using: 0 TPU cores\n",
      "IPU available: False, using: 0 IPUs\n",
      "LOCAL_RANK: 0 - CUDA_VISIBLE_DEVICES: [0]\n"
     ]
    },
    {
     "name": "stdout",
     "output_type": "stream",
     "text": [
      "Reward of Sakhi et al. 2 with Gaussian policies after training  : 0.6170005302429199\n",
      "################################################################################\n",
      "S_lmbd is defined by these two bounds 0.0011664327636970212 0.12943784736956893\n"
     ]
    },
    {
     "data": {
      "application/vnd.jupyter.widget-view+json": {
       "model_id": "eda34b1ad6684e628579a4fd296e4652",
       "version_major": 2,
       "version_minor": 0
      },
      "text/plain": [
       "Training: 0it [00:00, ?it/s]"
      ]
     },
     "metadata": {},
     "output_type": "display_data"
    },
    {
     "name": "stderr",
     "output_type": "stream",
     "text": [
      "79it [00:01, 43.03it/s]\n"
     ]
    },
    {
     "name": "stdout",
     "output_type": "stream",
     "text": [
      "Reward of Sakhi et al. 2 with MixedLogit policies after training  : 0.4607139356613159\n",
      "################################################################################\n",
      "defaultdict(<class 'list'>, {'eta': [0.0], 'logging_reward': [0.10000000149011612], 'ours, gaussian': [0.40582422676086427], 'ours, mixed-logit': [0.3040118197441101], 'london, gaussian': [0.14937721660137177], 'london, mixed-logit': [0.10942757939100266], 'sakhi1, gaussian': [0.6834229459762573], 'sakhi1, mixed-logit': [0.5687774660110474], 'sakhi2, gaussian': [0.6170005302429199], 'sakhi2, mixed-logit': [0.4607139356613159]})\n",
      "eta parameter :  0.11\n"
     ]
    },
    {
     "name": "stderr",
     "output_type": "stream",
     "text": [
      "79it [00:00, 116.30it/s]\n"
     ]
    },
    {
     "name": "stdout",
     "output_type": "stream",
     "text": [
      "The reward of the logging policy:  0.2255584443092346\n"
     ]
    },
    {
     "name": "stderr",
     "output_type": "stream",
     "text": [
      "100%|██████████| 446/446 [00:00<00:00, 603.69it/s]\n",
      "GPU available: True, used: True\n",
      "TPU available: False, using: 0 TPU cores\n",
      "IPU available: False, using: 0 IPUs\n",
      "LOCAL_RANK: 0 - CUDA_VISIBLE_DEVICES: [0]\n"
     ]
    },
    {
     "name": "stdout",
     "output_type": "stream",
     "text": [
      "max 0.3826219439506531\n",
      "min 0.019424449652433395\n"
     ]
    },
    {
     "data": {
      "application/vnd.jupyter.widget-view+json": {
       "model_id": "7f65b0273bd843549979e00da871859b",
       "version_major": 2,
       "version_minor": 0
      },
      "text/plain": [
       "Training: 0it [00:00, ?it/s]"
      ]
     },
     "metadata": {},
     "output_type": "display_data"
    },
    {
     "name": "stderr",
     "output_type": "stream",
     "text": [
      "79it [00:01, 41.74it/s]\n",
      "GPU available: True, used: True\n",
      "TPU available: False, using: 0 TPU cores\n",
      "IPU available: False, using: 0 IPUs\n",
      "LOCAL_RANK: 0 - CUDA_VISIBLE_DEVICES: [0]\n"
     ]
    },
    {
     "name": "stdout",
     "output_type": "stream",
     "text": [
      "Reward of Ours with Gaussian policies after training  : 0.7974009990692139\n",
      "################################################################################\n"
     ]
    },
    {
     "data": {
      "application/vnd.jupyter.widget-view+json": {
       "model_id": "fe3e0ec6aad24f218327d6c736d79d23",
       "version_major": 2,
       "version_minor": 0
      },
      "text/plain": [
       "Training: 0it [00:00, ?it/s]"
      ]
     },
     "metadata": {},
     "output_type": "display_data"
    },
    {
     "name": "stderr",
     "output_type": "stream",
     "text": [
      "79it [00:01, 45.62it/s]\n",
      "GPU available: True, used: True\n",
      "TPU available: False, using: 0 TPU cores\n",
      "IPU available: False, using: 0 IPUs\n",
      "LOCAL_RANK: 0 - CUDA_VISIBLE_DEVICES: [0]\n"
     ]
    },
    {
     "name": "stdout",
     "output_type": "stream",
     "text": [
      "Reward of Ours with MixedLogit policies after training  : 0.7586897585868836\n",
      "################################################################################\n"
     ]
    },
    {
     "data": {
      "application/vnd.jupyter.widget-view+json": {
       "model_id": "663f83443bc044c9b5005e7df445579e",
       "version_major": 2,
       "version_minor": 0
      },
      "text/plain": [
       "Training: 0it [00:00, ?it/s]"
      ]
     },
     "metadata": {},
     "output_type": "display_data"
    },
    {
     "name": "stderr",
     "output_type": "stream",
     "text": [
      "79it [00:01, 43.34it/s]\n",
      "GPU available: True, used: True\n",
      "TPU available: False, using: 0 TPU cores\n",
      "IPU available: False, using: 0 IPUs\n",
      "LOCAL_RANK: 0 - CUDA_VISIBLE_DEVICES: [0]\n"
     ]
    },
    {
     "name": "stdout",
     "output_type": "stream",
     "text": [
      "Reward of London with Gaussian policies after training  : 0.4066402594566345\n",
      "################################################################################\n"
     ]
    },
    {
     "data": {
      "application/vnd.jupyter.widget-view+json": {
       "model_id": "4f48e022ce3b4859adf1f9cd779c06bc",
       "version_major": 2,
       "version_minor": 0
      },
      "text/plain": [
       "Training: 0it [00:00, ?it/s]"
      ]
     },
     "metadata": {},
     "output_type": "display_data"
    },
    {
     "name": "stderr",
     "output_type": "stream",
     "text": [
      "79it [00:01, 42.61it/s]\n",
      "GPU available: True, used: True\n",
      "TPU available: False, using: 0 TPU cores\n",
      "IPU available: False, using: 0 IPUs\n",
      "LOCAL_RANK: 0 - CUDA_VISIBLE_DEVICES: [0]\n"
     ]
    },
    {
     "name": "stdout",
     "output_type": "stream",
     "text": [
      "Reward of London with MixedLogit policies after training  : 0.2667170904159546\n",
      "################################################################################\n"
     ]
    },
    {
     "data": {
      "application/vnd.jupyter.widget-view+json": {
       "model_id": "7bdcafa3dc49414681a11f83d43f67b1",
       "version_major": 2,
       "version_minor": 0
      },
      "text/plain": [
       "Training: 0it [00:00, ?it/s]"
      ]
     },
     "metadata": {},
     "output_type": "display_data"
    },
    {
     "name": "stderr",
     "output_type": "stream",
     "text": [
      "79it [00:01, 68.91it/s]\n",
      "GPU available: True, used: True\n",
      "TPU available: False, using: 0 TPU cores\n",
      "IPU available: False, using: 0 IPUs\n",
      "LOCAL_RANK: 0 - CUDA_VISIBLE_DEVICES: [0]\n"
     ]
    },
    {
     "name": "stdout",
     "output_type": "stream",
     "text": [
      "Reward of Sakhi et al. 1 with Gaussian policies after training  : 0.6970359573364258\n",
      "################################################################################\n"
     ]
    },
    {
     "data": {
      "application/vnd.jupyter.widget-view+json": {
       "model_id": "0fe0dd41d99d4b18bcbc5c95c92f2c30",
       "version_major": 2,
       "version_minor": 0
      },
      "text/plain": [
       "Training: 0it [00:00, ?it/s]"
      ]
     },
     "metadata": {},
     "output_type": "display_data"
    },
    {
     "name": "stderr",
     "output_type": "stream",
     "text": [
      "79it [00:00, 96.42it/s]\n",
      "GPU available: True, used: True\n",
      "TPU available: False, using: 0 TPU cores\n",
      "IPU available: False, using: 0 IPUs\n",
      "LOCAL_RANK: 0 - CUDA_VISIBLE_DEVICES: [0]\n"
     ]
    },
    {
     "name": "stdout",
     "output_type": "stream",
     "text": [
      "Reward of Sakhi et al. 1 with MixedLogit policies after training  : 0.6345921165466308\n",
      "################################################################################\n",
      "S_lmbd is defined by these two bounds 0.0011664327636970212 0.12943784736956893\n"
     ]
    },
    {
     "data": {
      "application/vnd.jupyter.widget-view+json": {
       "model_id": "ac19b3ed5637456b9705905fd01a4fd4",
       "version_major": 2,
       "version_minor": 0
      },
      "text/plain": [
       "Training: 0it [00:00, ?it/s]"
      ]
     },
     "metadata": {},
     "output_type": "display_data"
    },
    {
     "name": "stderr",
     "output_type": "stream",
     "text": [
      "79it [00:01, 75.78it/s]\n",
      "GPU available: True, used: True\n",
      "TPU available: False, using: 0 TPU cores\n",
      "IPU available: False, using: 0 IPUs\n",
      "LOCAL_RANK: 0 - CUDA_VISIBLE_DEVICES: [0]\n"
     ]
    },
    {
     "name": "stdout",
     "output_type": "stream",
     "text": [
      "Reward of Sakhi et al. 2 with Gaussian policies after training  : 0.7053758906364441\n",
      "################################################################################\n",
      "S_lmbd is defined by these two bounds 0.0011664327636970212 0.12943784736956893\n"
     ]
    },
    {
     "data": {
      "application/vnd.jupyter.widget-view+json": {
       "model_id": "c5ea22d905864c3d804bb09d82b181b9",
       "version_major": 2,
       "version_minor": 0
      },
      "text/plain": [
       "Training: 0it [00:00, ?it/s]"
      ]
     },
     "metadata": {},
     "output_type": "display_data"
    },
    {
     "name": "stderr",
     "output_type": "stream",
     "text": [
      "79it [00:01, 73.15it/s]\n"
     ]
    },
    {
     "name": "stdout",
     "output_type": "stream",
     "text": [
      "Reward of Sakhi et al. 2 with MixedLogit policies after training  : 0.621946343421936\n",
      "################################################################################\n",
      "defaultdict(<class 'list'>, {'eta': [0.0, 0.11], 'logging_reward': [0.10000000149011612, 0.2255584443092346], 'ours, gaussian': [0.40582422676086427, 0.7974009990692139], 'ours, mixed-logit': [0.3040118197441101, 0.7586897585868836], 'london, gaussian': [0.14937721660137177, 0.4066402594566345], 'london, mixed-logit': [0.10942757939100266, 0.2667170904159546], 'sakhi1, gaussian': [0.6834229459762573, 0.6970359573364258], 'sakhi1, mixed-logit': [0.5687774660110474, 0.6345921165466308], 'sakhi2, gaussian': [0.6170005302429199, 0.7053758906364441], 'sakhi2, mixed-logit': [0.4607139356613159, 0.621946343421936]})\n",
      "eta parameter :  0.22\n"
     ]
    },
    {
     "name": "stderr",
     "output_type": "stream",
     "text": [
      "79it [00:00, 2515.30it/s]\n"
     ]
    },
    {
     "name": "stdout",
     "output_type": "stream",
     "text": [
      "The reward of the logging policy:  0.3974212783336639\n"
     ]
    },
    {
     "name": "stderr",
     "output_type": "stream",
     "text": [
      "100%|██████████| 446/446 [00:00<00:00, 590.80it/s]\n",
      "GPU available: True, used: True\n",
      "TPU available: False, using: 0 TPU cores\n",
      "IPU available: False, using: 0 IPUs\n",
      "LOCAL_RANK: 0 - CUDA_VISIBLE_DEVICES: [0]\n"
     ]
    },
    {
     "name": "stdout",
     "output_type": "stream",
     "text": [
      "max 0.7379595637321472\n",
      "min 0.0029253759421408176\n"
     ]
    },
    {
     "data": {
      "application/vnd.jupyter.widget-view+json": {
       "model_id": "1f0a2d43142745498122336516cb1df3",
       "version_major": 2,
       "version_minor": 0
      },
      "text/plain": [
       "Training: 0it [00:00, ?it/s]"
      ]
     },
     "metadata": {},
     "output_type": "display_data"
    },
    {
     "name": "stderr",
     "output_type": "stream",
     "text": [
      "79it [00:01, 70.63it/s]\n",
      "GPU available: True, used: True\n",
      "TPU available: False, using: 0 TPU cores\n",
      "IPU available: False, using: 0 IPUs\n",
      "LOCAL_RANK: 0 - CUDA_VISIBLE_DEVICES: [0]\n"
     ]
    },
    {
     "name": "stdout",
     "output_type": "stream",
     "text": [
      "Reward of Ours with Gaussian policies after training  : 0.8395170715332031\n",
      "################################################################################\n"
     ]
    },
    {
     "data": {
      "application/vnd.jupyter.widget-view+json": {
       "model_id": "553321965fb44fea93c8c01f31e22ba5",
       "version_major": 2,
       "version_minor": 0
      },
      "text/plain": [
       "Training: 0it [00:00, ?it/s]"
      ]
     },
     "metadata": {},
     "output_type": "display_data"
    },
    {
     "name": "stderr",
     "output_type": "stream",
     "text": [
      "79it [00:00, 93.13it/s]\n",
      "GPU available: True, used: True\n",
      "TPU available: False, using: 0 TPU cores\n",
      "IPU available: False, using: 0 IPUs\n",
      "LOCAL_RANK: 0 - CUDA_VISIBLE_DEVICES: [0]\n"
     ]
    },
    {
     "name": "stdout",
     "output_type": "stream",
     "text": [
      "Reward of Ours with MixedLogit policies after training  : 0.8263850328445435\n",
      "################################################################################\n"
     ]
    },
    {
     "data": {
      "application/vnd.jupyter.widget-view+json": {
       "model_id": "d0a0874e8673484f9c1a0d2083491cec",
       "version_major": 2,
       "version_minor": 0
      },
      "text/plain": [
       "Training: 0it [00:00, ?it/s]"
      ]
     },
     "metadata": {},
     "output_type": "display_data"
    },
    {
     "name": "stderr",
     "output_type": "stream",
     "text": [
      "79it [00:01, 72.40it/s]\n",
      "GPU available: True, used: True\n",
      "TPU available: False, using: 0 TPU cores\n",
      "IPU available: False, using: 0 IPUs\n",
      "LOCAL_RANK: 0 - CUDA_VISIBLE_DEVICES: [0]\n"
     ]
    },
    {
     "name": "stdout",
     "output_type": "stream",
     "text": [
      "Reward of London with Gaussian policies after training  : 0.5898578350067138\n",
      "################################################################################\n"
     ]
    },
    {
     "data": {
      "application/vnd.jupyter.widget-view+json": {
       "model_id": "d696c02e1e7443a1a1d800bdf574e5f6",
       "version_major": 2,
       "version_minor": 0
      },
      "text/plain": [
       "Training: 0it [00:00, ?it/s]"
      ]
     },
     "metadata": {},
     "output_type": "display_data"
    },
    {
     "name": "stderr",
     "output_type": "stream",
     "text": [
      "79it [00:01, 74.11it/s]\n",
      "GPU available: True, used: True\n",
      "TPU available: False, using: 0 TPU cores\n",
      "IPU available: False, using: 0 IPUs\n",
      "LOCAL_RANK: 0 - CUDA_VISIBLE_DEVICES: [0]\n"
     ]
    },
    {
     "name": "stdout",
     "output_type": "stream",
     "text": [
      "Reward of London with MixedLogit policies after training  : 0.4446976410865784\n",
      "################################################################################\n"
     ]
    },
    {
     "data": {
      "application/vnd.jupyter.widget-view+json": {
       "model_id": "341e3bf489ba477987339ab6ab630fa4",
       "version_major": 2,
       "version_minor": 0
      },
      "text/plain": [
       "Training: 0it [00:00, ?it/s]"
      ]
     },
     "metadata": {},
     "output_type": "display_data"
    },
    {
     "name": "stderr",
     "output_type": "stream",
     "text": [
      "79it [00:01, 77.40it/s]\n",
      "GPU available: True, used: True\n",
      "TPU available: False, using: 0 TPU cores\n",
      "IPU available: False, using: 0 IPUs\n",
      "LOCAL_RANK: 0 - CUDA_VISIBLE_DEVICES: [0]\n"
     ]
    },
    {
     "name": "stdout",
     "output_type": "stream",
     "text": [
      "Reward of Sakhi et al. 1 with Gaussian policies after training  : 0.7149958414077758\n",
      "################################################################################\n"
     ]
    },
    {
     "data": {
      "application/vnd.jupyter.widget-view+json": {
       "model_id": "2e82b313662841fb8f5deadd627920b3",
       "version_major": 2,
       "version_minor": 0
      },
      "text/plain": [
       "Training: 0it [00:00, ?it/s]"
      ]
     },
     "metadata": {},
     "output_type": "display_data"
    },
    {
     "name": "stderr",
     "output_type": "stream",
     "text": [
      "79it [00:00, 96.69it/s]\n",
      "GPU available: True, used: True\n",
      "TPU available: False, using: 0 TPU cores\n",
      "IPU available: False, using: 0 IPUs\n",
      "LOCAL_RANK: 0 - CUDA_VISIBLE_DEVICES: [0]\n"
     ]
    },
    {
     "name": "stdout",
     "output_type": "stream",
     "text": [
      "Reward of Sakhi et al. 1 with MixedLogit policies after training  : 0.648596229839325\n",
      "################################################################################\n",
      "S_lmbd is defined by these two bounds 0.0011664327636970212 0.12943784736956893\n"
     ]
    },
    {
     "data": {
      "application/vnd.jupyter.widget-view+json": {
       "model_id": "096194d328174b4a8266a3d7125021b1",
       "version_major": 2,
       "version_minor": 0
      },
      "text/plain": [
       "Training: 0it [00:00, ?it/s]"
      ]
     },
     "metadata": {},
     "output_type": "display_data"
    }
   ],
   "source": [
    "for i, eta in enumerate(etas):\n",
    "    logging_policy = logging_policy.to(device)\n",
    "    print('eta parameter : ', eta)  \n",
    "    logging_policy.alpha = eta\n",
    "    risk_logging = test_risk_exact_probit(X_test, Y_test, logging_policy)\n",
    "    print('The reward of the logging policy: ', -risk_logging)\n",
    "    \n",
    "    dict_results['eta'].append(eta)\n",
    "    dict_results['logging_reward'].append(-risk_logging)\n",
    "    \n",
    "    # Collect a bandit dataset\n",
    "    f, a, p, c = build_bandit_dataset(logging_split_dataloader, logging_policy, replay_count = 1)\n",
    "\n",
    "    print('max', p.max(dim = 0)[0].mean().item())\n",
    "    print('min', p.min(dim = 0)[0].mean().item())\n",
    "\n",
    "    bandit_train_posterior = TensorDataset(f, a, p, c)\n",
    "    bandit_train_posterior_dataloader = DataLoader(bandit_train_posterior, batch_size=128, shuffle=True)\n",
    "\n",
    "    mu_0 = eta * logging_policy.linear.weight.data\n",
    "    \n",
    "    #####################################################################################################################\n",
    "    #####################################################################################################################\n",
    "    ######### Ours with Gaussian policies\n",
    "    #######################################\n",
    "    \n",
    "    model = OurGaussian(n_actions=num_actions, context_dim=context_dim, beta = 1 -  1/(N**(1/4)), N = N, loc_weight = mu_0, device = device)\n",
    "\n",
    "    trainer = Trainer(max_epochs=epochs, gpus=1, checkpoint_callback=False, weights_summary=None, logger=None)\n",
    "    trainer.fit(model, bandit_train_posterior_dataloader)\n",
    "\n",
    "    model = model.to(device)\n",
    "    with torch.no_grad():\n",
    "        risk_after_train = test_risk_exact_probit(X_test, Y_test, model)\n",
    "        \n",
    "    print('Reward of Ours with Gaussian policies after training  :', -risk_after_train)\n",
    "    print('################################################################################')\n",
    "        \n",
    "    dict_results['ours, gaussian'].append(-risk_after_train)\n",
    "    \n",
    "    ######### Ours with Mixed-Logit policies\n",
    "    \n",
    "    model = OurMixedLogit(n_actions=num_actions, context_dim=context_dim, beta = 1 -  1/(N**(1/4)), N = N, loc_weight = mu_0, device = device)\n",
    "\n",
    "    trainer = Trainer(max_epochs=epochs, gpus=1, checkpoint_callback=False, weights_summary=None, logger=None)\n",
    "    trainer.fit(model, bandit_train_posterior_dataloader)\n",
    "\n",
    "    model = model.to(device)\n",
    "    with torch.no_grad():\n",
    "        risk_after_train = test_risk_exact_probit(X_test, Y_test, model)\n",
    "        \n",
    "    print('Reward of Ours with MixedLogit policies after training  :', -risk_after_train)\n",
    "    print('################################################################################')\n",
    "        \n",
    "    dict_results['ours, mixed-logit'].append(-risk_after_train)\n",
    "\n",
    "    #####################################################################################################################\n",
    "    #####################################################################################################################\n",
    "    ######### London with Gaussian policies\n",
    "    #######################################\n",
    "    \n",
    "    model = LondonGaussian(n_actions=num_actions, context_dim=context_dim, tau = 1/(N**(1/4)), N = N, loc_weight = mu_0, device = device)\n",
    "\n",
    "    trainer = Trainer(max_epochs=epochs, gpus=1, checkpoint_callback=False, weights_summary=None, logger=None)\n",
    "    trainer.fit(model, bandit_train_posterior_dataloader)\n",
    "\n",
    "    model = model.to(device)\n",
    "    with torch.no_grad():\n",
    "        risk_after_train = test_risk_exact_probit(X_test, Y_test, model)\n",
    "        \n",
    "    print('Reward of London with Gaussian policies after training  :', -risk_after_train)\n",
    "    print('################################################################################')\n",
    "        \n",
    "    dict_results['london, gaussian'].append(-risk_after_train)\n",
    "    \n",
    "    ######### London with MixedLogit policies\n",
    "    \n",
    "    model = LondonMixedLogit(n_actions=num_actions, context_dim=context_dim, tau = 1/(N**(1/4)), N = N, loc_weight = mu_0, device = device)\n",
    "\n",
    "    trainer = Trainer(max_epochs=epochs, gpus=1, checkpoint_callback=False, weights_summary=None, logger=None)\n",
    "    trainer.fit(model, bandit_train_posterior_dataloader)\n",
    "\n",
    "    model = model.to(device)\n",
    "    with torch.no_grad():\n",
    "        risk_after_train = test_risk_exact_probit(X_test, Y_test, model)\n",
    "        \n",
    "    print('Reward of London with MixedLogit policies after training  :', -risk_after_train)\n",
    "    print('################################################################################')\n",
    "        \n",
    "    dict_results['london, mixed-logit'].append(-risk_after_train)\n",
    "    \n",
    "    #####################################################################################################################\n",
    "    #####################################################################################################################\n",
    "    ######### Sakhi 1 with Gaussian policies\n",
    "    ########################################\n",
    "    model = CatoniGaussian(n_actions=num_actions, context_dim=context_dim, tau = 1/(N**(1/4)), N = N, loc_weight = mu_0, device = device)\n",
    "\n",
    "    trainer = Trainer(max_epochs=epochs, gpus=1, checkpoint_callback=False, weights_summary=None, logger=None)\n",
    "    trainer.fit(model, bandit_train_posterior_dataloader)\n",
    "\n",
    "    model = model.to(device)\n",
    "    with torch.no_grad():\n",
    "        risk_after_train = test_risk_exact_probit(X_test, Y_test, model)\n",
    "        \n",
    "    print('Reward of Sakhi et al. 1 with Gaussian policies after training  :', -risk_after_train)\n",
    "    print('################################################################################')\n",
    "        \n",
    "    dict_results['sakhi1, gaussian'].append(-risk_after_train)\n",
    "\n",
    "    ######### Sakhi 1 with MixedLogit policies\n",
    "    \n",
    "    model = CatoniMixedLogit(n_actions=num_actions, context_dim=context_dim, tau = 1/(N**(1/4)), N = N, loc_weight = mu_0, device = device)\n",
    "\n",
    "    trainer = Trainer(max_epochs=epochs, gpus=1, checkpoint_callback=False, weights_summary=None, logger=None)\n",
    "    trainer.fit(model, bandit_train_posterior_dataloader)\n",
    "\n",
    "    model = model.to(device)\n",
    "    with torch.no_grad():\n",
    "        risk_after_train = test_risk_exact_probit(X_test, Y_test, model)\n",
    "        \n",
    "    print('Reward of Sakhi et al. 1 with MixedLogit policies after training  :', -risk_after_train)\n",
    "    print('################################################################################')\n",
    "        \n",
    "    dict_results['sakhi1, mixed-logit'].append(-risk_after_train)\n",
    "    \n",
    "    \n",
    "    #####################################################################################################################\n",
    "    #####################################################################################################################\n",
    "    ######### Sakhi 2 with Gaussian policies\n",
    "    #######################################\n",
    "    model = BernsteinGaussian(n_actions=num_actions, context_dim=context_dim, tau=1/(N**(1/4)), N=N, loc_weight=mu_0, num_p=100, rc=1, xi=0, device = device)\n",
    "\n",
    "    trainer = Trainer(max_epochs=epochs, gpus=1, checkpoint_callback=False, weights_summary=None, logger=None)\n",
    "    trainer.fit(model, bandit_train_posterior_dataloader)\n",
    "\n",
    "    model = model.to(device)\n",
    "    with torch.no_grad():\n",
    "        risk_after_train = test_risk_exact_probit(X_test, Y_test, model)\n",
    "        \n",
    "    print('Reward of Sakhi et al. 2 with Gaussian policies after training  :', -risk_after_train)\n",
    "    print('################################################################################')\n",
    "        \n",
    "    dict_results['sakhi2, gaussian'].append(-risk_after_train)\n",
    "\n",
    "    ######### Sakhi 2 with MixedLogit policies\n",
    "    model = BernsteinMixedLogit(n_actions=num_actions, context_dim=context_dim, tau=1/(N**(1/4)), N=N, loc_weight=mu_0, num_p=100, rc=1, xi=0, device = device)\n",
    "\n",
    "    trainer = Trainer(max_epochs=epochs, gpus=1, checkpoint_callback=False, weights_summary=None, logger=None)\n",
    "    trainer.fit(model, bandit_train_posterior_dataloader)\n",
    "\n",
    "    model = model.to(device)\n",
    "    with torch.no_grad():\n",
    "        risk_after_train = test_risk_exact_probit(X_test, Y_test, model)\n",
    "        \n",
    "    print('Reward of Sakhi et al. 2 with MixedLogit policies after training  :', -risk_after_train)\n",
    "    print('################################################################################')\n",
    "        \n",
    "    dict_results['sakhi2, mixed-logit'].append(-risk_after_train)\n",
    "    \n",
    "    print(dict_results)\n",
    "\n",
    "df = pd.DataFrame(dict_results)\n",
    "print(df)\n",
    "df.to_csv('results/results_' + name +'.csv', index = False)"
   ]
  }
 ],
 "metadata": {
  "kernelspec": {
   "display_name": "Python Kernel (MOAB #54945)",
   "language": "python",
   "name": "python-kernel-54945"
  },
  "language_info": {
   "codemirror_mode": {
    "name": "ipython",
    "version": 3
   },
   "file_extension": ".py",
   "mimetype": "text/x-python",
   "name": "python",
   "nbconvert_exporter": "python",
   "pygments_lexer": "ipython3",
   "version": "3.6.8"
  }
 },
 "nbformat": 4,
 "nbformat_minor": 5
}
